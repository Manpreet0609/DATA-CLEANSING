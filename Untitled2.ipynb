{
 "cells": [
  {
   "cell_type": "markdown",
   "metadata": {},
   "source": [
    "# DATA CLEANING"
   ]
  },
  {
   "cell_type": "markdown",
   "metadata": {},
   "source": [
    "### IMPORTING LIBRARIES"
   ]
  },
  {
   "cell_type": "code",
   "execution_count": 1,
   "metadata": {},
   "outputs": [],
   "source": [
    "import numpy as np\n",
    "import pandas as pd\n",
    "import seaborn as sns \n",
    "import matplotlib.pyplot as plt\n",
    "%matplotlib inline"
   ]
  },
  {
   "cell_type": "markdown",
   "metadata": {},
   "source": [
    "### LOADING CSV FILE"
   ]
  },
  {
   "cell_type": "code",
   "execution_count": 2,
   "metadata": {},
   "outputs": [],
   "source": [
    "weather=pd.read_csv('F:/PYTHON/Refactored_Py_DS_ML_Bootcamp-master/weather.csv', encoding='latin1')"
   ]
  },
  {
   "cell_type": "markdown",
   "metadata": {},
   "source": [
    "### CHECKING FIRST FIVE ITEMS/ ROWS OF DATA SET"
   ]
  },
  {
   "cell_type": "code",
   "execution_count": 3,
   "metadata": {},
   "outputs": [
    {
     "data": {
      "text/html": [
       "<div>\n",
       "<style scoped>\n",
       "    .dataframe tbody tr th:only-of-type {\n",
       "        vertical-align: middle;\n",
       "    }\n",
       "\n",
       "    .dataframe tbody tr th {\n",
       "        vertical-align: top;\n",
       "    }\n",
       "\n",
       "    .dataframe thead th {\n",
       "        text-align: right;\n",
       "    }\n",
       "</style>\n",
       "<table border=\"1\" class=\"dataframe\">\n",
       "  <thead>\n",
       "    <tr style=\"text-align: right;\">\n",
       "      <th></th>\n",
       "      <th>Date/Time</th>\n",
       "      <th>Year</th>\n",
       "      <th>Month</th>\n",
       "      <th>Day</th>\n",
       "      <th>Data Quality</th>\n",
       "      <th>Max Temp (°C)</th>\n",
       "      <th>Max Temp Flag</th>\n",
       "      <th>Min Temp (°C)</th>\n",
       "      <th>Min Temp Flag</th>\n",
       "      <th>Mean Temp (°C)</th>\n",
       "      <th>...</th>\n",
       "      <th>Total Snow (cm)</th>\n",
       "      <th>Total Snow Flag</th>\n",
       "      <th>Total Precip (mm)</th>\n",
       "      <th>Total Precip Flag</th>\n",
       "      <th>Snow on Grnd (cm)</th>\n",
       "      <th>Snow on Grnd Flag</th>\n",
       "      <th>Dir of Max Gust (10s deg)</th>\n",
       "      <th>Dir of Max Gust Flag</th>\n",
       "      <th>Spd of Max Gust (km/h)</th>\n",
       "      <th>Spd of Max Gust Flag</th>\n",
       "    </tr>\n",
       "  </thead>\n",
       "  <tbody>\n",
       "    <tr>\n",
       "      <th>0</th>\n",
       "      <td>01-01-17</td>\n",
       "      <td>2017</td>\n",
       "      <td>1</td>\n",
       "      <td>1</td>\n",
       "      <td>NaN</td>\n",
       "      <td>3.1</td>\n",
       "      <td>NaN</td>\n",
       "      <td>-0.5</td>\n",
       "      <td>NaN</td>\n",
       "      <td>1.3</td>\n",
       "      <td>...</td>\n",
       "      <td>NaN</td>\n",
       "      <td>M</td>\n",
       "      <td>0.0</td>\n",
       "      <td>NaN</td>\n",
       "      <td>3.0</td>\n",
       "      <td>NaN</td>\n",
       "      <td>NaN</td>\n",
       "      <td>M</td>\n",
       "      <td>NaN</td>\n",
       "      <td>M</td>\n",
       "    </tr>\n",
       "    <tr>\n",
       "      <th>1</th>\n",
       "      <td>02-01-17</td>\n",
       "      <td>2017</td>\n",
       "      <td>1</td>\n",
       "      <td>2</td>\n",
       "      <td>NaN</td>\n",
       "      <td>5.5</td>\n",
       "      <td>NaN</td>\n",
       "      <td>0.7</td>\n",
       "      <td>NaN</td>\n",
       "      <td>3.1</td>\n",
       "      <td>...</td>\n",
       "      <td>NaN</td>\n",
       "      <td>M</td>\n",
       "      <td>0.0</td>\n",
       "      <td>NaN</td>\n",
       "      <td>3.0</td>\n",
       "      <td>NaN</td>\n",
       "      <td>NaN</td>\n",
       "      <td>M</td>\n",
       "      <td>NaN</td>\n",
       "      <td>M</td>\n",
       "    </tr>\n",
       "    <tr>\n",
       "      <th>2</th>\n",
       "      <td>03-01-17</td>\n",
       "      <td>2017</td>\n",
       "      <td>1</td>\n",
       "      <td>3</td>\n",
       "      <td>NaN</td>\n",
       "      <td>4.8</td>\n",
       "      <td>NaN</td>\n",
       "      <td>2.4</td>\n",
       "      <td>NaN</td>\n",
       "      <td>3.6</td>\n",
       "      <td>...</td>\n",
       "      <td>NaN</td>\n",
       "      <td>M</td>\n",
       "      <td>11.3</td>\n",
       "      <td>NaN</td>\n",
       "      <td>1.0</td>\n",
       "      <td>NaN</td>\n",
       "      <td>NaN</td>\n",
       "      <td>M</td>\n",
       "      <td>NaN</td>\n",
       "      <td>M</td>\n",
       "    </tr>\n",
       "    <tr>\n",
       "      <th>3</th>\n",
       "      <td>04-01-17</td>\n",
       "      <td>2017</td>\n",
       "      <td>1</td>\n",
       "      <td>4</td>\n",
       "      <td>NaN</td>\n",
       "      <td>3.8</td>\n",
       "      <td>NaN</td>\n",
       "      <td>-7.6</td>\n",
       "      <td>NaN</td>\n",
       "      <td>-1.9</td>\n",
       "      <td>...</td>\n",
       "      <td>NaN</td>\n",
       "      <td>M</td>\n",
       "      <td>0.6</td>\n",
       "      <td>NaN</td>\n",
       "      <td>NaN</td>\n",
       "      <td>NaN</td>\n",
       "      <td>NaN</td>\n",
       "      <td>M</td>\n",
       "      <td>NaN</td>\n",
       "      <td>M</td>\n",
       "    </tr>\n",
       "    <tr>\n",
       "      <th>4</th>\n",
       "      <td>05-01-17</td>\n",
       "      <td>2017</td>\n",
       "      <td>1</td>\n",
       "      <td>5</td>\n",
       "      <td>NaN</td>\n",
       "      <td>-5.3</td>\n",
       "      <td>NaN</td>\n",
       "      <td>-10.3</td>\n",
       "      <td>NaN</td>\n",
       "      <td>-7.8</td>\n",
       "      <td>...</td>\n",
       "      <td>NaN</td>\n",
       "      <td>M</td>\n",
       "      <td>0.0</td>\n",
       "      <td>NaN</td>\n",
       "      <td>NaN</td>\n",
       "      <td>NaN</td>\n",
       "      <td>NaN</td>\n",
       "      <td>M</td>\n",
       "      <td>NaN</td>\n",
       "      <td>M</td>\n",
       "    </tr>\n",
       "  </tbody>\n",
       "</table>\n",
       "<p>5 rows × 27 columns</p>\n",
       "</div>"
      ],
      "text/plain": [
       "  Date/Time  Year  Month  Day  Data Quality  Max Temp (°C) Max Temp Flag  \\\n",
       "0  01-01-17  2017      1    1           NaN            3.1           NaN   \n",
       "1  02-01-17  2017      1    2           NaN            5.5           NaN   \n",
       "2  03-01-17  2017      1    3           NaN            4.8           NaN   \n",
       "3  04-01-17  2017      1    4           NaN            3.8           NaN   \n",
       "4  05-01-17  2017      1    5           NaN           -5.3           NaN   \n",
       "\n",
       "   Min Temp (°C) Min Temp Flag  Mean Temp (°C)  ... Total Snow (cm)  \\\n",
       "0           -0.5           NaN             1.3  ...             NaN   \n",
       "1            0.7           NaN             3.1  ...             NaN   \n",
       "2            2.4           NaN             3.6  ...             NaN   \n",
       "3           -7.6           NaN            -1.9  ...             NaN   \n",
       "4          -10.3           NaN            -7.8  ...             NaN   \n",
       "\n",
       "   Total Snow Flag Total Precip (mm)  Total Precip Flag Snow on Grnd (cm)  \\\n",
       "0                M               0.0                NaN               3.0   \n",
       "1                M               0.0                NaN               3.0   \n",
       "2                M              11.3                NaN               1.0   \n",
       "3                M               0.6                NaN               NaN   \n",
       "4                M               0.0                NaN               NaN   \n",
       "\n",
       "   Snow on Grnd Flag Dir of Max Gust (10s deg)  Dir of Max Gust Flag  \\\n",
       "0                NaN                       NaN                     M   \n",
       "1                NaN                       NaN                     M   \n",
       "2                NaN                       NaN                     M   \n",
       "3                NaN                       NaN                     M   \n",
       "4                NaN                       NaN                     M   \n",
       "\n",
       "  Spd of Max Gust (km/h)  Spd of Max Gust Flag  \n",
       "0                    NaN                     M  \n",
       "1                    NaN                     M  \n",
       "2                    NaN                     M  \n",
       "3                    NaN                     M  \n",
       "4                    NaN                     M  \n",
       "\n",
       "[5 rows x 27 columns]"
      ]
     },
     "execution_count": 3,
     "metadata": {},
     "output_type": "execute_result"
    }
   ],
   "source": [
    "weather.head()"
   ]
  },
  {
   "cell_type": "markdown",
   "metadata": {},
   "source": [
    "### CHECKING FOR \"NA\" VALUES"
   ]
  },
  {
   "cell_type": "code",
   "execution_count": 4,
   "metadata": {},
   "outputs": [
    {
     "data": {
      "text/html": [
       "<div>\n",
       "<style scoped>\n",
       "    .dataframe tbody tr th:only-of-type {\n",
       "        vertical-align: middle;\n",
       "    }\n",
       "\n",
       "    .dataframe tbody tr th {\n",
       "        vertical-align: top;\n",
       "    }\n",
       "\n",
       "    .dataframe thead th {\n",
       "        text-align: right;\n",
       "    }\n",
       "</style>\n",
       "<table border=\"1\" class=\"dataframe\">\n",
       "  <thead>\n",
       "    <tr style=\"text-align: right;\">\n",
       "      <th></th>\n",
       "      <th>Date/Time</th>\n",
       "      <th>Year</th>\n",
       "      <th>Month</th>\n",
       "      <th>Day</th>\n",
       "      <th>Data Quality</th>\n",
       "      <th>Max Temp (°C)</th>\n",
       "      <th>Max Temp Flag</th>\n",
       "      <th>Min Temp (°C)</th>\n",
       "      <th>Min Temp Flag</th>\n",
       "      <th>Mean Temp (°C)</th>\n",
       "      <th>...</th>\n",
       "      <th>Total Snow (cm)</th>\n",
       "      <th>Total Snow Flag</th>\n",
       "      <th>Total Precip (mm)</th>\n",
       "      <th>Total Precip Flag</th>\n",
       "      <th>Snow on Grnd (cm)</th>\n",
       "      <th>Snow on Grnd Flag</th>\n",
       "      <th>Dir of Max Gust (10s deg)</th>\n",
       "      <th>Dir of Max Gust Flag</th>\n",
       "      <th>Spd of Max Gust (km/h)</th>\n",
       "      <th>Spd of Max Gust Flag</th>\n",
       "    </tr>\n",
       "  </thead>\n",
       "  <tbody>\n",
       "    <tr>\n",
       "      <th>0</th>\n",
       "      <td>False</td>\n",
       "      <td>False</td>\n",
       "      <td>False</td>\n",
       "      <td>False</td>\n",
       "      <td>True</td>\n",
       "      <td>False</td>\n",
       "      <td>True</td>\n",
       "      <td>False</td>\n",
       "      <td>True</td>\n",
       "      <td>False</td>\n",
       "      <td>...</td>\n",
       "      <td>True</td>\n",
       "      <td>False</td>\n",
       "      <td>False</td>\n",
       "      <td>True</td>\n",
       "      <td>False</td>\n",
       "      <td>True</td>\n",
       "      <td>True</td>\n",
       "      <td>False</td>\n",
       "      <td>True</td>\n",
       "      <td>False</td>\n",
       "    </tr>\n",
       "    <tr>\n",
       "      <th>1</th>\n",
       "      <td>False</td>\n",
       "      <td>False</td>\n",
       "      <td>False</td>\n",
       "      <td>False</td>\n",
       "      <td>True</td>\n",
       "      <td>False</td>\n",
       "      <td>True</td>\n",
       "      <td>False</td>\n",
       "      <td>True</td>\n",
       "      <td>False</td>\n",
       "      <td>...</td>\n",
       "      <td>True</td>\n",
       "      <td>False</td>\n",
       "      <td>False</td>\n",
       "      <td>True</td>\n",
       "      <td>False</td>\n",
       "      <td>True</td>\n",
       "      <td>True</td>\n",
       "      <td>False</td>\n",
       "      <td>True</td>\n",
       "      <td>False</td>\n",
       "    </tr>\n",
       "    <tr>\n",
       "      <th>2</th>\n",
       "      <td>False</td>\n",
       "      <td>False</td>\n",
       "      <td>False</td>\n",
       "      <td>False</td>\n",
       "      <td>True</td>\n",
       "      <td>False</td>\n",
       "      <td>True</td>\n",
       "      <td>False</td>\n",
       "      <td>True</td>\n",
       "      <td>False</td>\n",
       "      <td>...</td>\n",
       "      <td>True</td>\n",
       "      <td>False</td>\n",
       "      <td>False</td>\n",
       "      <td>True</td>\n",
       "      <td>False</td>\n",
       "      <td>True</td>\n",
       "      <td>True</td>\n",
       "      <td>False</td>\n",
       "      <td>True</td>\n",
       "      <td>False</td>\n",
       "    </tr>\n",
       "    <tr>\n",
       "      <th>3</th>\n",
       "      <td>False</td>\n",
       "      <td>False</td>\n",
       "      <td>False</td>\n",
       "      <td>False</td>\n",
       "      <td>True</td>\n",
       "      <td>False</td>\n",
       "      <td>True</td>\n",
       "      <td>False</td>\n",
       "      <td>True</td>\n",
       "      <td>False</td>\n",
       "      <td>...</td>\n",
       "      <td>True</td>\n",
       "      <td>False</td>\n",
       "      <td>False</td>\n",
       "      <td>True</td>\n",
       "      <td>True</td>\n",
       "      <td>True</td>\n",
       "      <td>True</td>\n",
       "      <td>False</td>\n",
       "      <td>True</td>\n",
       "      <td>False</td>\n",
       "    </tr>\n",
       "    <tr>\n",
       "      <th>4</th>\n",
       "      <td>False</td>\n",
       "      <td>False</td>\n",
       "      <td>False</td>\n",
       "      <td>False</td>\n",
       "      <td>True</td>\n",
       "      <td>False</td>\n",
       "      <td>True</td>\n",
       "      <td>False</td>\n",
       "      <td>True</td>\n",
       "      <td>False</td>\n",
       "      <td>...</td>\n",
       "      <td>True</td>\n",
       "      <td>False</td>\n",
       "      <td>False</td>\n",
       "      <td>True</td>\n",
       "      <td>True</td>\n",
       "      <td>True</td>\n",
       "      <td>True</td>\n",
       "      <td>False</td>\n",
       "      <td>True</td>\n",
       "      <td>False</td>\n",
       "    </tr>\n",
       "  </tbody>\n",
       "</table>\n",
       "<p>5 rows × 27 columns</p>\n",
       "</div>"
      ],
      "text/plain": [
       "   Date/Time   Year  Month    Day  Data Quality  Max Temp (°C)  Max Temp Flag  \\\n",
       "0      False  False  False  False          True          False           True   \n",
       "1      False  False  False  False          True          False           True   \n",
       "2      False  False  False  False          True          False           True   \n",
       "3      False  False  False  False          True          False           True   \n",
       "4      False  False  False  False          True          False           True   \n",
       "\n",
       "   Min Temp (°C)  Min Temp Flag  Mean Temp (°C)  ...  Total Snow (cm)  \\\n",
       "0          False           True           False  ...             True   \n",
       "1          False           True           False  ...             True   \n",
       "2          False           True           False  ...             True   \n",
       "3          False           True           False  ...             True   \n",
       "4          False           True           False  ...             True   \n",
       "\n",
       "   Total Snow Flag  Total Precip (mm)  Total Precip Flag  Snow on Grnd (cm)  \\\n",
       "0            False              False               True              False   \n",
       "1            False              False               True              False   \n",
       "2            False              False               True              False   \n",
       "3            False              False               True               True   \n",
       "4            False              False               True               True   \n",
       "\n",
       "   Snow on Grnd Flag  Dir of Max Gust (10s deg)  Dir of Max Gust Flag  \\\n",
       "0               True                       True                 False   \n",
       "1               True                       True                 False   \n",
       "2               True                       True                 False   \n",
       "3               True                       True                 False   \n",
       "4               True                       True                 False   \n",
       "\n",
       "   Spd of Max Gust (km/h)  Spd of Max Gust Flag  \n",
       "0                    True                 False  \n",
       "1                    True                 False  \n",
       "2                    True                 False  \n",
       "3                    True                 False  \n",
       "4                    True                 False  \n",
       "\n",
       "[5 rows x 27 columns]"
      ]
     },
     "execution_count": 4,
     "metadata": {},
     "output_type": "execute_result"
    }
   ],
   "source": [
    "weather.isna().head()"
   ]
  },
  {
   "cell_type": "markdown",
   "metadata": {},
   "source": [
    "# EXPLORATORY ANALYSIS"
   ]
  },
  {
   "cell_type": "code",
   "execution_count": 5,
   "metadata": {},
   "outputs": [
    {
     "data": {
      "text/plain": [
       "<matplotlib.axes._subplots.AxesSubplot at 0x897b14828>"
      ]
     },
     "execution_count": 5,
     "metadata": {},
     "output_type": "execute_result"
    },
    {
     "data": {
      "image/png": "[encoded data removed]",
      "text/plain": [
       "<Figure size 864x504 with 1 Axes>"
      ]
     },
     "metadata": {
      "needs_background": "light"
     },
     "output_type": "display_data"
    }
   ],
   "source": [
    "plt.figure(figsize=(12, 7))\n",
    "sns.heatmap(weather.isnull(),yticklabels=False,cbar=False,cmap='viridis')"
   ]
  },
  {
   "cell_type": "markdown",
   "metadata": {},
   "source": [
    "### CALCULATING NUMBER OF ITEMS IN A EVERY COLUMN"
   ]
  },
  {
   "cell_type": "code",
   "execution_count": 6,
   "metadata": {},
   "outputs": [
    {
     "data": {
      "text/plain": [
       "True"
      ]
     },
     "execution_count": 6,
     "metadata": {},
     "output_type": "execute_result"
    }
   ],
   "source": [
    "weather.isnull().values.any()"
   ]
  },
  {
   "cell_type": "code",
   "execution_count": 7,
   "metadata": {},
   "outputs": [
    {
     "data": {
      "text/plain": [
       "4657"
      ]
     },
     "execution_count": 7,
     "metadata": {},
     "output_type": "execute_result"
    }
   ],
   "source": [
    "weather.isnull().sum().sum()"
   ]
  },
  {
   "cell_type": "code",
   "execution_count": 8,
   "metadata": {},
   "outputs": [
    {
     "data": {
      "text/plain": [
       "Date/Time                    365\n",
       "Year                         365\n",
       "Month                        365\n",
       "Day                          365\n",
       "Data Quality                   0\n",
       "Max Temp (°C)                357\n",
       "Max Temp Flag                 10\n",
       "Min Temp (°C)                361\n",
       "Min Temp Flag                 10\n",
       "Mean Temp (°C)               355\n",
       "Mean Temp Flag                10\n",
       "Heat Deg Days (°C)           355\n",
       "Heat Deg Days Flag            10\n",
       "Cool Deg Days (°C)           355\n",
       "Cool Deg Days Flag            10\n",
       "Total Rain (mm)                0\n",
       "Total Rain Flag              365\n",
       "Total Snow (cm)                0\n",
       "Total Snow Flag              365\n",
       "Total Precip (mm)            350\n",
       "Total Precip Flag             15\n",
       "Snow on Grnd (cm)             60\n",
       "Snow on Grnd Flag             20\n",
       "Dir of Max Gust (10s deg)      0\n",
       "Dir of Max Gust Flag         365\n",
       "Spd of Max Gust (km/h)         0\n",
       "Spd of Max Gust Flag         365\n",
       "dtype: int64"
      ]
     },
     "execution_count": 8,
     "metadata": {},
     "output_type": "execute_result"
    }
   ],
   "source": [
    "weather.count()"
   ]
  },
  {
   "cell_type": "code",
   "execution_count": 9,
   "metadata": {},
   "outputs": [
    {
     "data": {
      "text/plain": [
       "Date/Time                      0\n",
       "Year                           0\n",
       "Month                          0\n",
       "Day                            0\n",
       "Data Quality                 365\n",
       "Max Temp (°C)                  8\n",
       "Max Temp Flag                355\n",
       "Min Temp (°C)                  4\n",
       "Min Temp Flag                355\n",
       "Mean Temp (°C)                10\n",
       "Mean Temp Flag               355\n",
       "Heat Deg Days (°C)            10\n",
       "Heat Deg Days Flag           355\n",
       "Cool Deg Days (°C)            10\n",
       "Cool Deg Days Flag           355\n",
       "Total Rain (mm)              365\n",
       "Total Rain Flag                0\n",
       "Total Snow (cm)              365\n",
       "Total Snow Flag                0\n",
       "Total Precip (mm)             15\n",
       "Total Precip Flag            350\n",
       "Snow on Grnd (cm)            305\n",
       "Snow on Grnd Flag            345\n",
       "Dir of Max Gust (10s deg)    365\n",
       "Dir of Max Gust Flag           0\n",
       "Spd of Max Gust (km/h)       365\n",
       "Spd of Max Gust Flag           0\n",
       "dtype: int64"
      ]
     },
     "execution_count": 9,
     "metadata": {},
     "output_type": "execute_result"
    }
   ],
   "source": [
    "weather.isnull().sum()"
   ]
  },
  {
   "cell_type": "markdown",
   "metadata": {},
   "source": [
    "### DROPPING EMPTY COLUMNS"
   ]
  },
  {
   "cell_type": "code",
   "execution_count": 10,
   "metadata": {},
   "outputs": [
    {
     "data": {
      "text/html": [
       "<div>\n",
       "<style scoped>\n",
       "    .dataframe tbody tr th:only-of-type {\n",
       "        vertical-align: middle;\n",
       "    }\n",
       "\n",
       "    .dataframe tbody tr th {\n",
       "        vertical-align: top;\n",
       "    }\n",
       "\n",
       "    .dataframe thead th {\n",
       "        text-align: right;\n",
       "    }\n",
       "</style>\n",
       "<table border=\"1\" class=\"dataframe\">\n",
       "  <thead>\n",
       "    <tr style=\"text-align: right;\">\n",
       "      <th></th>\n",
       "      <th>Date/Time</th>\n",
       "      <th>Year</th>\n",
       "      <th>Month</th>\n",
       "      <th>Day</th>\n",
       "      <th>Data Quality</th>\n",
       "      <th>Max Temp (°C)</th>\n",
       "      <th>Max Temp Flag</th>\n",
       "      <th>Min Temp (°C)</th>\n",
       "      <th>Min Temp Flag</th>\n",
       "      <th>Mean Temp (°C)</th>\n",
       "      <th>...</th>\n",
       "      <th>Cool Deg Days (°C)</th>\n",
       "      <th>Cool Deg Days Flag</th>\n",
       "      <th>Total Rain Flag</th>\n",
       "      <th>Total Snow Flag</th>\n",
       "      <th>Total Precip (mm)</th>\n",
       "      <th>Total Precip Flag</th>\n",
       "      <th>Snow on Grnd (cm)</th>\n",
       "      <th>Snow on Grnd Flag</th>\n",
       "      <th>Dir of Max Gust Flag</th>\n",
       "      <th>Spd of Max Gust Flag</th>\n",
       "    </tr>\n",
       "  </thead>\n",
       "  <tbody>\n",
       "    <tr>\n",
       "      <th>0</th>\n",
       "      <td>01-01-17</td>\n",
       "      <td>2017</td>\n",
       "      <td>1</td>\n",
       "      <td>1</td>\n",
       "      <td>NaN</td>\n",
       "      <td>3.1</td>\n",
       "      <td>NaN</td>\n",
       "      <td>-0.5</td>\n",
       "      <td>NaN</td>\n",
       "      <td>1.3</td>\n",
       "      <td>...</td>\n",
       "      <td>0.0</td>\n",
       "      <td>NaN</td>\n",
       "      <td>M</td>\n",
       "      <td>M</td>\n",
       "      <td>0.0</td>\n",
       "      <td>NaN</td>\n",
       "      <td>3.0</td>\n",
       "      <td>NaN</td>\n",
       "      <td>M</td>\n",
       "      <td>M</td>\n",
       "    </tr>\n",
       "    <tr>\n",
       "      <th>1</th>\n",
       "      <td>02-01-17</td>\n",
       "      <td>2017</td>\n",
       "      <td>1</td>\n",
       "      <td>2</td>\n",
       "      <td>NaN</td>\n",
       "      <td>5.5</td>\n",
       "      <td>NaN</td>\n",
       "      <td>0.7</td>\n",
       "      <td>NaN</td>\n",
       "      <td>3.1</td>\n",
       "      <td>...</td>\n",
       "      <td>0.0</td>\n",
       "      <td>NaN</td>\n",
       "      <td>M</td>\n",
       "      <td>M</td>\n",
       "      <td>0.0</td>\n",
       "      <td>NaN</td>\n",
       "      <td>3.0</td>\n",
       "      <td>NaN</td>\n",
       "      <td>M</td>\n",
       "      <td>M</td>\n",
       "    </tr>\n",
       "    <tr>\n",
       "      <th>2</th>\n",
       "      <td>03-01-17</td>\n",
       "      <td>2017</td>\n",
       "      <td>1</td>\n",
       "      <td>3</td>\n",
       "      <td>NaN</td>\n",
       "      <td>4.8</td>\n",
       "      <td>NaN</td>\n",
       "      <td>2.4</td>\n",
       "      <td>NaN</td>\n",
       "      <td>3.6</td>\n",
       "      <td>...</td>\n",
       "      <td>0.0</td>\n",
       "      <td>NaN</td>\n",
       "      <td>M</td>\n",
       "      <td>M</td>\n",
       "      <td>11.3</td>\n",
       "      <td>NaN</td>\n",
       "      <td>1.0</td>\n",
       "      <td>NaN</td>\n",
       "      <td>M</td>\n",
       "      <td>M</td>\n",
       "    </tr>\n",
       "    <tr>\n",
       "      <th>3</th>\n",
       "      <td>04-01-17</td>\n",
       "      <td>2017</td>\n",
       "      <td>1</td>\n",
       "      <td>4</td>\n",
       "      <td>NaN</td>\n",
       "      <td>3.8</td>\n",
       "      <td>NaN</td>\n",
       "      <td>-7.6</td>\n",
       "      <td>NaN</td>\n",
       "      <td>-1.9</td>\n",
       "      <td>...</td>\n",
       "      <td>0.0</td>\n",
       "      <td>NaN</td>\n",
       "      <td>M</td>\n",
       "      <td>M</td>\n",
       "      <td>0.6</td>\n",
       "      <td>NaN</td>\n",
       "      <td>NaN</td>\n",
       "      <td>NaN</td>\n",
       "      <td>M</td>\n",
       "      <td>M</td>\n",
       "    </tr>\n",
       "    <tr>\n",
       "      <th>4</th>\n",
       "      <td>05-01-17</td>\n",
       "      <td>2017</td>\n",
       "      <td>1</td>\n",
       "      <td>5</td>\n",
       "      <td>NaN</td>\n",
       "      <td>-5.3</td>\n",
       "      <td>NaN</td>\n",
       "      <td>-10.3</td>\n",
       "      <td>NaN</td>\n",
       "      <td>-7.8</td>\n",
       "      <td>...</td>\n",
       "      <td>0.0</td>\n",
       "      <td>NaN</td>\n",
       "      <td>M</td>\n",
       "      <td>M</td>\n",
       "      <td>0.0</td>\n",
       "      <td>NaN</td>\n",
       "      <td>NaN</td>\n",
       "      <td>NaN</td>\n",
       "      <td>M</td>\n",
       "      <td>M</td>\n",
       "    </tr>\n",
       "  </tbody>\n",
       "</table>\n",
       "<p>5 rows × 23 columns</p>\n",
       "</div>"
      ],
      "text/plain": [
       "  Date/Time  Year  Month  Day  Data Quality  Max Temp (°C) Max Temp Flag  \\\n",
       "0  01-01-17  2017      1    1           NaN            3.1           NaN   \n",
       "1  02-01-17  2017      1    2           NaN            5.5           NaN   \n",
       "2  03-01-17  2017      1    3           NaN            4.8           NaN   \n",
       "3  04-01-17  2017      1    4           NaN            3.8           NaN   \n",
       "4  05-01-17  2017      1    5           NaN           -5.3           NaN   \n",
       "\n",
       "   Min Temp (°C) Min Temp Flag  Mean Temp (°C)  ... Cool Deg Days (°C)  \\\n",
       "0           -0.5           NaN             1.3  ...                0.0   \n",
       "1            0.7           NaN             3.1  ...                0.0   \n",
       "2            2.4           NaN             3.6  ...                0.0   \n",
       "3           -7.6           NaN            -1.9  ...                0.0   \n",
       "4          -10.3           NaN            -7.8  ...                0.0   \n",
       "\n",
       "   Cool Deg Days Flag Total Rain Flag  Total Snow Flag Total Precip (mm)  \\\n",
       "0                 NaN               M                M               0.0   \n",
       "1                 NaN               M                M               0.0   \n",
       "2                 NaN               M                M              11.3   \n",
       "3                 NaN               M                M               0.6   \n",
       "4                 NaN               M                M               0.0   \n",
       "\n",
       "  Total Precip Flag Snow on Grnd (cm)  Snow on Grnd Flag Dir of Max Gust Flag  \\\n",
       "0               NaN               3.0                NaN                    M   \n",
       "1               NaN               3.0                NaN                    M   \n",
       "2               NaN               1.0                NaN                    M   \n",
       "3               NaN               NaN                NaN                    M   \n",
       "4               NaN               NaN                NaN                    M   \n",
       "\n",
       "   Spd of Max Gust Flag  \n",
       "0                     M  \n",
       "1                     M  \n",
       "2                     M  \n",
       "3                     M  \n",
       "4                     M  \n",
       "\n",
       "[5 rows x 23 columns]"
      ]
     },
     "execution_count": 10,
     "metadata": {},
     "output_type": "execute_result"
    }
   ],
   "source": [
    "to_drop = ['Dir of Max Gust (10s deg)', 'Total Snow (cm)', 'Total Rain (mm)']\n",
    "weather.drop(to_drop, inplace=True, axis=1)\n",
    "to_drop = ['Spd of Max Gust (km/h)']\n",
    "weather.drop(to_drop, inplace=True, axis=1)\n",
    "weather.head()"
   ]
  },
  {
   "cell_type": "code",
   "execution_count": 11,
   "metadata": {},
   "outputs": [
    {
     "data": {
      "text/html": [
       "<div>\n",
       "<style scoped>\n",
       "    .dataframe tbody tr th:only-of-type {\n",
       "        vertical-align: middle;\n",
       "    }\n",
       "\n",
       "    .dataframe tbody tr th {\n",
       "        vertical-align: top;\n",
       "    }\n",
       "\n",
       "    .dataframe thead th {\n",
       "        text-align: right;\n",
       "    }\n",
       "</style>\n",
       "<table border=\"1\" class=\"dataframe\">\n",
       "  <thead>\n",
       "    <tr style=\"text-align: right;\">\n",
       "      <th></th>\n",
       "      <th>Date/Time</th>\n",
       "      <th>Year</th>\n",
       "      <th>Month</th>\n",
       "      <th>Day</th>\n",
       "      <th>Max Temp (°C)</th>\n",
       "      <th>Max Temp Flag</th>\n",
       "      <th>Min Temp (°C)</th>\n",
       "      <th>Min Temp Flag</th>\n",
       "      <th>Mean Temp (°C)</th>\n",
       "      <th>Mean Temp Flag</th>\n",
       "      <th>...</th>\n",
       "      <th>Cool Deg Days (°C)</th>\n",
       "      <th>Cool Deg Days Flag</th>\n",
       "      <th>Total Rain Flag</th>\n",
       "      <th>Total Snow Flag</th>\n",
       "      <th>Total Precip (mm)</th>\n",
       "      <th>Total Precip Flag</th>\n",
       "      <th>Snow on Grnd (cm)</th>\n",
       "      <th>Snow on Grnd Flag</th>\n",
       "      <th>Dir of Max Gust Flag</th>\n",
       "      <th>Spd of Max Gust Flag</th>\n",
       "    </tr>\n",
       "  </thead>\n",
       "  <tbody>\n",
       "    <tr>\n",
       "      <th>0</th>\n",
       "      <td>01-01-17</td>\n",
       "      <td>2017</td>\n",
       "      <td>1</td>\n",
       "      <td>1</td>\n",
       "      <td>3.1</td>\n",
       "      <td>NaN</td>\n",
       "      <td>-0.5</td>\n",
       "      <td>NaN</td>\n",
       "      <td>1.3</td>\n",
       "      <td>NaN</td>\n",
       "      <td>...</td>\n",
       "      <td>0.0</td>\n",
       "      <td>NaN</td>\n",
       "      <td>M</td>\n",
       "      <td>M</td>\n",
       "      <td>0.0</td>\n",
       "      <td>NaN</td>\n",
       "      <td>3.0</td>\n",
       "      <td>NaN</td>\n",
       "      <td>M</td>\n",
       "      <td>M</td>\n",
       "    </tr>\n",
       "    <tr>\n",
       "      <th>1</th>\n",
       "      <td>02-01-17</td>\n",
       "      <td>2017</td>\n",
       "      <td>1</td>\n",
       "      <td>2</td>\n",
       "      <td>5.5</td>\n",
       "      <td>NaN</td>\n",
       "      <td>0.7</td>\n",
       "      <td>NaN</td>\n",
       "      <td>3.1</td>\n",
       "      <td>NaN</td>\n",
       "      <td>...</td>\n",
       "      <td>0.0</td>\n",
       "      <td>NaN</td>\n",
       "      <td>M</td>\n",
       "      <td>M</td>\n",
       "      <td>0.0</td>\n",
       "      <td>NaN</td>\n",
       "      <td>3.0</td>\n",
       "      <td>NaN</td>\n",
       "      <td>M</td>\n",
       "      <td>M</td>\n",
       "    </tr>\n",
       "    <tr>\n",
       "      <th>2</th>\n",
       "      <td>03-01-17</td>\n",
       "      <td>2017</td>\n",
       "      <td>1</td>\n",
       "      <td>3</td>\n",
       "      <td>4.8</td>\n",
       "      <td>NaN</td>\n",
       "      <td>2.4</td>\n",
       "      <td>NaN</td>\n",
       "      <td>3.6</td>\n",
       "      <td>NaN</td>\n",
       "      <td>...</td>\n",
       "      <td>0.0</td>\n",
       "      <td>NaN</td>\n",
       "      <td>M</td>\n",
       "      <td>M</td>\n",
       "      <td>11.3</td>\n",
       "      <td>NaN</td>\n",
       "      <td>1.0</td>\n",
       "      <td>NaN</td>\n",
       "      <td>M</td>\n",
       "      <td>M</td>\n",
       "    </tr>\n",
       "    <tr>\n",
       "      <th>3</th>\n",
       "      <td>04-01-17</td>\n",
       "      <td>2017</td>\n",
       "      <td>1</td>\n",
       "      <td>4</td>\n",
       "      <td>3.8</td>\n",
       "      <td>NaN</td>\n",
       "      <td>-7.6</td>\n",
       "      <td>NaN</td>\n",
       "      <td>-1.9</td>\n",
       "      <td>NaN</td>\n",
       "      <td>...</td>\n",
       "      <td>0.0</td>\n",
       "      <td>NaN</td>\n",
       "      <td>M</td>\n",
       "      <td>M</td>\n",
       "      <td>0.6</td>\n",
       "      <td>NaN</td>\n",
       "      <td>NaN</td>\n",
       "      <td>NaN</td>\n",
       "      <td>M</td>\n",
       "      <td>M</td>\n",
       "    </tr>\n",
       "    <tr>\n",
       "      <th>4</th>\n",
       "      <td>05-01-17</td>\n",
       "      <td>2017</td>\n",
       "      <td>1</td>\n",
       "      <td>5</td>\n",
       "      <td>-5.3</td>\n",
       "      <td>NaN</td>\n",
       "      <td>-10.3</td>\n",
       "      <td>NaN</td>\n",
       "      <td>-7.8</td>\n",
       "      <td>NaN</td>\n",
       "      <td>...</td>\n",
       "      <td>0.0</td>\n",
       "      <td>NaN</td>\n",
       "      <td>M</td>\n",
       "      <td>M</td>\n",
       "      <td>0.0</td>\n",
       "      <td>NaN</td>\n",
       "      <td>NaN</td>\n",
       "      <td>NaN</td>\n",
       "      <td>M</td>\n",
       "      <td>M</td>\n",
       "    </tr>\n",
       "  </tbody>\n",
       "</table>\n",
       "<p>5 rows × 22 columns</p>\n",
       "</div>"
      ],
      "text/plain": [
       "  Date/Time  Year  Month  Day  Max Temp (°C) Max Temp Flag  Min Temp (°C)  \\\n",
       "0  01-01-17  2017      1    1            3.1           NaN           -0.5   \n",
       "1  02-01-17  2017      1    2            5.5           NaN            0.7   \n",
       "2  03-01-17  2017      1    3            4.8           NaN            2.4   \n",
       "3  04-01-17  2017      1    4            3.8           NaN           -7.6   \n",
       "4  05-01-17  2017      1    5           -5.3           NaN          -10.3   \n",
       "\n",
       "  Min Temp Flag  Mean Temp (°C) Mean Temp Flag  ...  Cool Deg Days (°C)  \\\n",
       "0           NaN             1.3            NaN  ...                 0.0   \n",
       "1           NaN             3.1            NaN  ...                 0.0   \n",
       "2           NaN             3.6            NaN  ...                 0.0   \n",
       "3           NaN            -1.9            NaN  ...                 0.0   \n",
       "4           NaN            -7.8            NaN  ...                 0.0   \n",
       "\n",
       "  Cool Deg Days Flag  Total Rain Flag Total Snow Flag Total Precip (mm)  \\\n",
       "0                NaN                M               M               0.0   \n",
       "1                NaN                M               M               0.0   \n",
       "2                NaN                M               M              11.3   \n",
       "3                NaN                M               M               0.6   \n",
       "4                NaN                M               M               0.0   \n",
       "\n",
       "  Total Precip Flag  Snow on Grnd (cm) Snow on Grnd Flag  \\\n",
       "0               NaN                3.0               NaN   \n",
       "1               NaN                3.0               NaN   \n",
       "2               NaN                1.0               NaN   \n",
       "3               NaN                NaN               NaN   \n",
       "4               NaN                NaN               NaN   \n",
       "\n",
       "   Dir of Max Gust Flag Spd of Max Gust Flag  \n",
       "0                     M                    M  \n",
       "1                     M                    M  \n",
       "2                     M                    M  \n",
       "3                     M                    M  \n",
       "4                     M                    M  \n",
       "\n",
       "[5 rows x 22 columns]"
      ]
     },
     "execution_count": 11,
     "metadata": {},
     "output_type": "execute_result"
    }
   ],
   "source": [
    "to_drop = ['Data Quality']\n",
    "weather.drop(to_drop, inplace=True, axis=1)\n",
    "weather.head()"
   ]
  },
  {
   "cell_type": "code",
   "execution_count": 12,
   "metadata": {},
   "outputs": [
    {
     "data": {
      "text/plain": [
       "<matplotlib.axes._subplots.AxesSubplot at 0x8985c3b00>"
      ]
     },
     "execution_count": 12,
     "metadata": {},
     "output_type": "execute_result"
    },
    {
     "data": {
      "image/png": "[encoded data removed]",
      "text/plain": [
       "<Figure size 864x504 with 1 Axes>"
      ]
     },
     "metadata": {
      "needs_background": "light"
     },
     "output_type": "display_data"
    }
   ],
   "source": [
    "plt.figure(figsize=(12, 7))\n",
    "sns.heatmap(weather.isnull(),yticklabels=False,cbar=False,cmap='viridis')"
   ]
  },
  {
   "cell_type": "markdown",
   "metadata": {},
   "source": [
    "### COMPLETING FLAGS"
   ]
  },
  {
   "cell_type": "markdown",
   "metadata": {},
   "source": [
    "REFERENCE FOR FLAGS: https://learn.weatherstem.com/modules/learn/lessons/27/12.html"
   ]
  },
  {
   "cell_type": "code",
   "execution_count": 13,
   "metadata": {},
   "outputs": [
    {
     "data": {
      "text/plain": [
       "White     332\n",
       "Green      19\n",
       "nan         8\n",
       "Yellow      6\n",
       "Name: Max Temp Flag, dtype: int64"
      ]
     },
     "execution_count": 13,
     "metadata": {},
     "output_type": "execute_result"
    }
   ],
   "source": [
    "#SIngle condition : weather['Max Temp Flag'] = np.where(weather['Max Temp (°C)'] >33.3, 'Green',weather['Max Temp Flag'])\n",
    "\n",
    "conditions  = [ weather['Max Temp (°C)'] >33.3, (weather['Max Temp (°C)'] <=33.3) & (weather['Max Temp (°C)'] >=32.3), (weather['Max Temp (°C)'] <32.3) & (weather['Max Temp (°C)'] >=30.5), (weather['Max Temp (°C)'] <30.5) & (weather['Max Temp (°C)'] >=27.8), weather['Max Temp (°C)'] <27.8 ]\n",
    "choices     = [ \"Black\", 'Red', 'Yellow', 'Green', 'White']\n",
    "\n",
    "weather['Max Temp Flag'] = np.select(conditions, choices, default=np.nan)\n",
    "\n",
    "weather['Max Temp Flag'].value_counts()"
   ]
  },
  {
   "cell_type": "code",
   "execution_count": 14,
   "metadata": {},
   "outputs": [
    {
     "data": {
      "text/plain": [
       "<matplotlib.axes._subplots.AxesSubplot at 0x8985adb00>"
      ]
     },
     "execution_count": 14,
     "metadata": {},
     "output_type": "execute_result"
    },
    {
     "data": {
      "image/png": "[encoded data removed]",
      "text/plain": [
       "<Figure size 432x288 with 1 Axes>"
      ]
     },
     "metadata": {
      "needs_background": "light"
     },
     "output_type": "display_data"
    }
   ],
   "source": [
    "sns.countplot(x='Max Temp Flag', data=weather)"
   ]
  },
  {
   "cell_type": "code",
   "execution_count": 15,
   "metadata": {},
   "outputs": [
    {
     "data": {
      "text/plain": [
       "White    361\n",
       "nan        4\n",
       "Name: Min Temp Flag, dtype: int64"
      ]
     },
     "execution_count": 15,
     "metadata": {},
     "output_type": "execute_result"
    }
   ],
   "source": [
    "conditions  = [ weather['Min Temp (°C)'] >33.3, (weather['Min Temp (°C)'] <=33.3) & (weather['Min Temp (°C)'] >=32.3), (weather['Min Temp (°C)'] <32.3) & (weather['Min Temp (°C)'] >=30.5), (weather['Min Temp (°C)'] <30.5) & (weather['Min Temp (°C)'] >=27.8), weather['Min Temp (°C)'] <27.8 ]\n",
    "choices     = [ \"Black\", 'Red', 'Yellow', 'Green', 'White']\n",
    "\n",
    "weather['Min Temp Flag'] = np.select(conditions, choices, default=np.nan)\n",
    "\n",
    "weather['Min Temp Flag'].value_counts()"
   ]
  },
  {
   "cell_type": "code",
   "execution_count": 16,
   "metadata": {},
   "outputs": [
    {
     "data": {
      "text/plain": [
       "White    355\n",
       "nan       10\n",
       "Name: Mean Temp Flag, dtype: int64"
      ]
     },
     "execution_count": 16,
     "metadata": {},
     "output_type": "execute_result"
    }
   ],
   "source": [
    "conditions  = [ weather['Mean Temp (°C)'] >33.3, (weather['Mean Temp (°C)'] <=33.3) & (weather['Mean Temp (°C)'] >=32.3), (weather['Mean Temp (°C)'] <32.3) & (weather['Mean Temp (°C)'] >=30.5), (weather['Mean Temp (°C)'] <30.5) & (weather['Mean Temp (°C)'] >=27.8), weather['Mean Temp (°C)'] <27.8 ]\n",
    "choices     = [ \"Black\", 'Red', 'Yellow', 'Green', 'White']\n",
    "\n",
    "weather['Mean Temp Flag'] = np.select(conditions, choices, default=np.nan)\n",
    "\n",
    "weather['Mean Temp Flag'].value_counts()"
   ]
  },
  {
   "cell_type": "code",
   "execution_count": 17,
   "metadata": {},
   "outputs": [
    {
     "data": {
      "text/plain": [
       "<matplotlib.axes._subplots.AxesSubplot at 0x8984c3390>"
      ]
     },
     "execution_count": 17,
     "metadata": {},
     "output_type": "execute_result"
    },
    {
     "data": {
      "image/png": "[encoded data removed]",
      "text/plain": [
       "<Figure size 864x504 with 1 Axes>"
      ]
     },
     "metadata": {
      "needs_background": "light"
     },
     "output_type": "display_data"
    }
   ],
   "source": [
    "plt.figure(figsize=(12, 7))\n",
    "sns.heatmap(weather.isnull(),yticklabels=False,cbar=False,cmap='viridis')"
   ]
  },
  {
   "cell_type": "markdown",
   "metadata": {},
   "source": [
    "### CHECKING WHICH ROWS HAS NULL VALUES CORRESPONDING TO COLUMNS"
   ]
  },
  {
   "cell_type": "code",
   "execution_count": 18,
   "metadata": {},
   "outputs": [
    {
     "data": {
      "text/plain": [
       "[100, 137, 141, 148, 157, 302, 310, 330]"
      ]
     },
     "execution_count": 18,
     "metadata": {},
     "output_type": "execute_result"
    }
   ],
   "source": [
    "weather[weather['Max Temp (°C)'].isnull()].index.tolist()"
   ]
  },
  {
   "cell_type": "code",
   "execution_count": 19,
   "metadata": {},
   "outputs": [
    {
     "data": {
      "text/plain": [
       "[64, 141, 142, 157]"
      ]
     },
     "execution_count": 19,
     "metadata": {},
     "output_type": "execute_result"
    }
   ],
   "source": [
    "weather[weather['Min Temp (°C)'].isnull()].index.tolist()"
   ]
  },
  {
   "cell_type": "code",
   "execution_count": 20,
   "metadata": {},
   "outputs": [
    {
     "data": {
      "text/plain": [
       "[64, 100, 137, 141, 142, 148, 157, 302, 310, 330]"
      ]
     },
     "execution_count": 20,
     "metadata": {},
     "output_type": "execute_result"
    }
   ],
   "source": [
    "\n",
    "weather[weather['Mean Temp (°C)'].isnull()].index.tolist()"
   ]
  },
  {
   "cell_type": "markdown",
   "metadata": {},
   "source": [
    "### DROPPING ROWS 141 and 157 AS THESE ROWS ARE EMPTY IN 3 COLUMNS "
   ]
  },
  {
   "cell_type": "code",
   "execution_count": 21,
   "metadata": {},
   "outputs": [
    {
     "data": {
      "text/html": [
       "<div>\n",
       "<style scoped>\n",
       "    .dataframe tbody tr th:only-of-type {\n",
       "        vertical-align: middle;\n",
       "    }\n",
       "\n",
       "    .dataframe tbody tr th {\n",
       "        vertical-align: top;\n",
       "    }\n",
       "\n",
       "    .dataframe thead th {\n",
       "        text-align: right;\n",
       "    }\n",
       "</style>\n",
       "<table border=\"1\" class=\"dataframe\">\n",
       "  <thead>\n",
       "    <tr style=\"text-align: right;\">\n",
       "      <th></th>\n",
       "      <th>Date/Time</th>\n",
       "      <th>Year</th>\n",
       "      <th>Month</th>\n",
       "      <th>Day</th>\n",
       "      <th>Max Temp (°C)</th>\n",
       "      <th>Max Temp Flag</th>\n",
       "      <th>Min Temp (°C)</th>\n",
       "      <th>Min Temp Flag</th>\n",
       "      <th>Mean Temp (°C)</th>\n",
       "      <th>Mean Temp Flag</th>\n",
       "      <th>...</th>\n",
       "      <th>Cool Deg Days (°C)</th>\n",
       "      <th>Cool Deg Days Flag</th>\n",
       "      <th>Total Rain Flag</th>\n",
       "      <th>Total Snow Flag</th>\n",
       "      <th>Total Precip (mm)</th>\n",
       "      <th>Total Precip Flag</th>\n",
       "      <th>Snow on Grnd (cm)</th>\n",
       "      <th>Snow on Grnd Flag</th>\n",
       "      <th>Dir of Max Gust Flag</th>\n",
       "      <th>Spd of Max Gust Flag</th>\n",
       "    </tr>\n",
       "  </thead>\n",
       "  <tbody>\n",
       "    <tr>\n",
       "      <th>0</th>\n",
       "      <td>01-01-17</td>\n",
       "      <td>2017</td>\n",
       "      <td>1</td>\n",
       "      <td>1</td>\n",
       "      <td>3.1</td>\n",
       "      <td>White</td>\n",
       "      <td>-0.5</td>\n",
       "      <td>White</td>\n",
       "      <td>1.3</td>\n",
       "      <td>White</td>\n",
       "      <td>...</td>\n",
       "      <td>0.0</td>\n",
       "      <td>NaN</td>\n",
       "      <td>M</td>\n",
       "      <td>M</td>\n",
       "      <td>0.0</td>\n",
       "      <td>NaN</td>\n",
       "      <td>3.0</td>\n",
       "      <td>NaN</td>\n",
       "      <td>M</td>\n",
       "      <td>M</td>\n",
       "    </tr>\n",
       "    <tr>\n",
       "      <th>1</th>\n",
       "      <td>02-01-17</td>\n",
       "      <td>2017</td>\n",
       "      <td>1</td>\n",
       "      <td>2</td>\n",
       "      <td>5.5</td>\n",
       "      <td>White</td>\n",
       "      <td>0.7</td>\n",
       "      <td>White</td>\n",
       "      <td>3.1</td>\n",
       "      <td>White</td>\n",
       "      <td>...</td>\n",
       "      <td>0.0</td>\n",
       "      <td>NaN</td>\n",
       "      <td>M</td>\n",
       "      <td>M</td>\n",
       "      <td>0.0</td>\n",
       "      <td>NaN</td>\n",
       "      <td>3.0</td>\n",
       "      <td>NaN</td>\n",
       "      <td>M</td>\n",
       "      <td>M</td>\n",
       "    </tr>\n",
       "    <tr>\n",
       "      <th>2</th>\n",
       "      <td>03-01-17</td>\n",
       "      <td>2017</td>\n",
       "      <td>1</td>\n",
       "      <td>3</td>\n",
       "      <td>4.8</td>\n",
       "      <td>White</td>\n",
       "      <td>2.4</td>\n",
       "      <td>White</td>\n",
       "      <td>3.6</td>\n",
       "      <td>White</td>\n",
       "      <td>...</td>\n",
       "      <td>0.0</td>\n",
       "      <td>NaN</td>\n",
       "      <td>M</td>\n",
       "      <td>M</td>\n",
       "      <td>11.3</td>\n",
       "      <td>NaN</td>\n",
       "      <td>1.0</td>\n",
       "      <td>NaN</td>\n",
       "      <td>M</td>\n",
       "      <td>M</td>\n",
       "    </tr>\n",
       "    <tr>\n",
       "      <th>3</th>\n",
       "      <td>04-01-17</td>\n",
       "      <td>2017</td>\n",
       "      <td>1</td>\n",
       "      <td>4</td>\n",
       "      <td>3.8</td>\n",
       "      <td>White</td>\n",
       "      <td>-7.6</td>\n",
       "      <td>White</td>\n",
       "      <td>-1.9</td>\n",
       "      <td>White</td>\n",
       "      <td>...</td>\n",
       "      <td>0.0</td>\n",
       "      <td>NaN</td>\n",
       "      <td>M</td>\n",
       "      <td>M</td>\n",
       "      <td>0.6</td>\n",
       "      <td>NaN</td>\n",
       "      <td>NaN</td>\n",
       "      <td>NaN</td>\n",
       "      <td>M</td>\n",
       "      <td>M</td>\n",
       "    </tr>\n",
       "    <tr>\n",
       "      <th>4</th>\n",
       "      <td>05-01-17</td>\n",
       "      <td>2017</td>\n",
       "      <td>1</td>\n",
       "      <td>5</td>\n",
       "      <td>-5.3</td>\n",
       "      <td>White</td>\n",
       "      <td>-10.3</td>\n",
       "      <td>White</td>\n",
       "      <td>-7.8</td>\n",
       "      <td>White</td>\n",
       "      <td>...</td>\n",
       "      <td>0.0</td>\n",
       "      <td>NaN</td>\n",
       "      <td>M</td>\n",
       "      <td>M</td>\n",
       "      <td>0.0</td>\n",
       "      <td>NaN</td>\n",
       "      <td>NaN</td>\n",
       "      <td>NaN</td>\n",
       "      <td>M</td>\n",
       "      <td>M</td>\n",
       "    </tr>\n",
       "  </tbody>\n",
       "</table>\n",
       "<p>5 rows × 22 columns</p>\n",
       "</div>"
      ],
      "text/plain": [
       "  Date/Time  Year  Month  Day  Max Temp (°C) Max Temp Flag  Min Temp (°C)  \\\n",
       "0  01-01-17  2017      1    1            3.1         White           -0.5   \n",
       "1  02-01-17  2017      1    2            5.5         White            0.7   \n",
       "2  03-01-17  2017      1    3            4.8         White            2.4   \n",
       "3  04-01-17  2017      1    4            3.8         White           -7.6   \n",
       "4  05-01-17  2017      1    5           -5.3         White          -10.3   \n",
       "\n",
       "  Min Temp Flag  Mean Temp (°C) Mean Temp Flag  ...  Cool Deg Days (°C)  \\\n",
       "0         White             1.3          White  ...                 0.0   \n",
       "1         White             3.1          White  ...                 0.0   \n",
       "2         White             3.6          White  ...                 0.0   \n",
       "3         White            -1.9          White  ...                 0.0   \n",
       "4         White            -7.8          White  ...                 0.0   \n",
       "\n",
       "  Cool Deg Days Flag  Total Rain Flag Total Snow Flag Total Precip (mm)  \\\n",
       "0                NaN                M               M               0.0   \n",
       "1                NaN                M               M               0.0   \n",
       "2                NaN                M               M              11.3   \n",
       "3                NaN                M               M               0.6   \n",
       "4                NaN                M               M               0.0   \n",
       "\n",
       "  Total Precip Flag  Snow on Grnd (cm) Snow on Grnd Flag  \\\n",
       "0               NaN                3.0               NaN   \n",
       "1               NaN                3.0               NaN   \n",
       "2               NaN                1.0               NaN   \n",
       "3               NaN                NaN               NaN   \n",
       "4               NaN                NaN               NaN   \n",
       "\n",
       "   Dir of Max Gust Flag Spd of Max Gust Flag  \n",
       "0                     M                    M  \n",
       "1                     M                    M  \n",
       "2                     M                    M  \n",
       "3                     M                    M  \n",
       "4                     M                    M  \n",
       "\n",
       "[5 rows x 22 columns]"
      ]
     },
     "execution_count": 21,
     "metadata": {},
     "output_type": "execute_result"
    }
   ],
   "source": [
    "weather.drop(weather.index[[141,157]]).head()"
   ]
  },
  {
   "cell_type": "markdown",
   "metadata": {},
   "source": [
    "### COOLING DEGREE DAYS\n",
    "Cooling degree-days for a given day are the number of degrees Celsius that the mean temperature is above 18 °C. \n",
    "If the temperature is equal to or less than 18 °C, then the number will be zero.\n",
    "For example, a day with a mean temperature of 20.5 °C has 2.5 cooling degree-days; \n",
    "a day with a mean temperature of 15.5 °C has zero cooling degree-days. \n",
    "Cooling degree-days are used primarily to estimate the air-conditioning requirements of buildings.\n",
    "REFERENCE: https://climate.weather.gc.ca/glossary_e.html accessed on: 26-Sep 2019\n",
    "\n",
    "            \n",
    "There is no information on CDD or HDD flags. So, drop these columns."
   ]
  },
  {
   "cell_type": "code",
   "execution_count": 22,
   "metadata": {},
   "outputs": [],
   "source": [
    "to_drop = ['Cool Deg Days Flag', 'Heat Deg Days Flag']\n",
    "weather.drop(to_drop, inplace=True, axis=1)"
   ]
  },
  {
   "cell_type": "code",
   "execution_count": 23,
   "metadata": {},
   "outputs": [
    {
     "data": {
      "text/plain": [
       "Index(['Date/Time', 'Year', 'Month', 'Day', 'Max Temp (°C)', 'Max Temp Flag',\n",
       "       'Min Temp (°C)', 'Min Temp Flag', 'Mean Temp (°C)', 'Mean Temp Flag',\n",
       "       'Heat Deg Days (°C)', 'Cool Deg Days (°C)', 'Total Rain Flag',\n",
       "       'Total Snow Flag', 'Total Precip (mm)', 'Total Precip Flag',\n",
       "       'Snow on Grnd (cm)', 'Snow on Grnd Flag', 'Dir of Max Gust Flag',\n",
       "       'Spd of Max Gust Flag'],\n",
       "      dtype='object')"
      ]
     },
     "execution_count": 23,
     "metadata": {},
     "output_type": "execute_result"
    }
   ],
   "source": [
    "weather.columns"
   ]
  },
  {
   "cell_type": "markdown",
   "metadata": {},
   "source": [
    "#### DROPPING OTHER FLAG COLUMNS WHICH ARE NOT REQUIRED"
   ]
  },
  {
   "cell_type": "code",
   "execution_count": 24,
   "metadata": {},
   "outputs": [],
   "source": [
    "to_drop = ['Total Rain Flag', 'Total Snow Flag']\n",
    "weather.drop(to_drop, inplace=True, axis=1)"
   ]
  },
  {
   "cell_type": "code",
   "execution_count": 25,
   "metadata": {},
   "outputs": [
    {
     "data": {
      "text/plain": [
       "Index(['Date/Time', 'Year', 'Month', 'Day', 'Max Temp (°C)', 'Max Temp Flag',\n",
       "       'Min Temp (°C)', 'Min Temp Flag', 'Mean Temp (°C)', 'Mean Temp Flag',\n",
       "       'Heat Deg Days (°C)', 'Cool Deg Days (°C)', 'Total Precip (mm)',\n",
       "       'Total Precip Flag', 'Snow on Grnd (cm)', 'Snow on Grnd Flag',\n",
       "       'Dir of Max Gust Flag', 'Spd of Max Gust Flag'],\n",
       "      dtype='object')"
      ]
     },
     "execution_count": 25,
     "metadata": {},
     "output_type": "execute_result"
    }
   ],
   "source": [
    "weather.columns"
   ]
  },
  {
   "cell_type": "code",
   "execution_count": 26,
   "metadata": {},
   "outputs": [
    {
     "data": {
      "text/html": [
       "<div>\n",
       "<style scoped>\n",
       "    .dataframe tbody tr th:only-of-type {\n",
       "        vertical-align: middle;\n",
       "    }\n",
       "\n",
       "    .dataframe tbody tr th {\n",
       "        vertical-align: top;\n",
       "    }\n",
       "\n",
       "    .dataframe thead th {\n",
       "        text-align: right;\n",
       "    }\n",
       "</style>\n",
       "<table border=\"1\" class=\"dataframe\">\n",
       "  <thead>\n",
       "    <tr style=\"text-align: right;\">\n",
       "      <th></th>\n",
       "      <th>Date/Time</th>\n",
       "      <th>Year</th>\n",
       "      <th>Month</th>\n",
       "      <th>Day</th>\n",
       "      <th>Max Temp (°C)</th>\n",
       "      <th>Max Temp Flag</th>\n",
       "      <th>Min Temp (°C)</th>\n",
       "      <th>Min Temp Flag</th>\n",
       "      <th>Mean Temp (°C)</th>\n",
       "      <th>Mean Temp Flag</th>\n",
       "      <th>Heat Deg Days (°C)</th>\n",
       "      <th>Cool Deg Days (°C)</th>\n",
       "      <th>Total Precip (mm)</th>\n",
       "      <th>Total Precip Flag</th>\n",
       "      <th>Snow on Grnd (cm)</th>\n",
       "      <th>Snow on Grnd Flag</th>\n",
       "      <th>Dir of Max Gust Flag</th>\n",
       "      <th>Spd of Max Gust Flag</th>\n",
       "    </tr>\n",
       "  </thead>\n",
       "  <tbody>\n",
       "    <tr>\n",
       "      <th>64</th>\n",
       "      <td>06-03-17</td>\n",
       "      <td>2017</td>\n",
       "      <td>3</td>\n",
       "      <td>6</td>\n",
       "      <td>4.9</td>\n",
       "      <td>White</td>\n",
       "      <td>NaN</td>\n",
       "      <td>nan</td>\n",
       "      <td>NaN</td>\n",
       "      <td>nan</td>\n",
       "      <td>NaN</td>\n",
       "      <td>NaN</td>\n",
       "      <td>NaN</td>\n",
       "      <td>M</td>\n",
       "      <td>NaN</td>\n",
       "      <td>NaN</td>\n",
       "      <td>M</td>\n",
       "      <td>M</td>\n",
       "    </tr>\n",
       "    <tr>\n",
       "      <th>100</th>\n",
       "      <td>11-04-17</td>\n",
       "      <td>2017</td>\n",
       "      <td>4</td>\n",
       "      <td>11</td>\n",
       "      <td>NaN</td>\n",
       "      <td>nan</td>\n",
       "      <td>11.3</td>\n",
       "      <td>White</td>\n",
       "      <td>NaN</td>\n",
       "      <td>nan</td>\n",
       "      <td>NaN</td>\n",
       "      <td>NaN</td>\n",
       "      <td>NaN</td>\n",
       "      <td>M</td>\n",
       "      <td>NaN</td>\n",
       "      <td>NaN</td>\n",
       "      <td>M</td>\n",
       "      <td>M</td>\n",
       "    </tr>\n",
       "    <tr>\n",
       "      <th>137</th>\n",
       "      <td>18-05-17</td>\n",
       "      <td>2017</td>\n",
       "      <td>5</td>\n",
       "      <td>18</td>\n",
       "      <td>NaN</td>\n",
       "      <td>nan</td>\n",
       "      <td>18.4</td>\n",
       "      <td>White</td>\n",
       "      <td>NaN</td>\n",
       "      <td>nan</td>\n",
       "      <td>NaN</td>\n",
       "      <td>NaN</td>\n",
       "      <td>NaN</td>\n",
       "      <td>M</td>\n",
       "      <td>NaN</td>\n",
       "      <td>NaN</td>\n",
       "      <td>M</td>\n",
       "      <td>M</td>\n",
       "    </tr>\n",
       "    <tr>\n",
       "      <th>141</th>\n",
       "      <td>22-05-17</td>\n",
       "      <td>2017</td>\n",
       "      <td>5</td>\n",
       "      <td>22</td>\n",
       "      <td>NaN</td>\n",
       "      <td>nan</td>\n",
       "      <td>NaN</td>\n",
       "      <td>nan</td>\n",
       "      <td>NaN</td>\n",
       "      <td>nan</td>\n",
       "      <td>NaN</td>\n",
       "      <td>NaN</td>\n",
       "      <td>NaN</td>\n",
       "      <td>M</td>\n",
       "      <td>NaN</td>\n",
       "      <td>NaN</td>\n",
       "      <td>M</td>\n",
       "      <td>M</td>\n",
       "    </tr>\n",
       "    <tr>\n",
       "      <th>142</th>\n",
       "      <td>23-05-17</td>\n",
       "      <td>2017</td>\n",
       "      <td>5</td>\n",
       "      <td>23</td>\n",
       "      <td>21.8</td>\n",
       "      <td>White</td>\n",
       "      <td>NaN</td>\n",
       "      <td>nan</td>\n",
       "      <td>NaN</td>\n",
       "      <td>nan</td>\n",
       "      <td>NaN</td>\n",
       "      <td>NaN</td>\n",
       "      <td>NaN</td>\n",
       "      <td>M</td>\n",
       "      <td>NaN</td>\n",
       "      <td>NaN</td>\n",
       "      <td>M</td>\n",
       "      <td>M</td>\n",
       "    </tr>\n",
       "    <tr>\n",
       "      <th>148</th>\n",
       "      <td>29-05-17</td>\n",
       "      <td>2017</td>\n",
       "      <td>5</td>\n",
       "      <td>29</td>\n",
       "      <td>NaN</td>\n",
       "      <td>nan</td>\n",
       "      <td>14.7</td>\n",
       "      <td>White</td>\n",
       "      <td>NaN</td>\n",
       "      <td>nan</td>\n",
       "      <td>NaN</td>\n",
       "      <td>NaN</td>\n",
       "      <td>NaN</td>\n",
       "      <td>M</td>\n",
       "      <td>NaN</td>\n",
       "      <td>NaN</td>\n",
       "      <td>M</td>\n",
       "      <td>M</td>\n",
       "    </tr>\n",
       "    <tr>\n",
       "      <th>157</th>\n",
       "      <td>07-06-17</td>\n",
       "      <td>2017</td>\n",
       "      <td>6</td>\n",
       "      <td>7</td>\n",
       "      <td>NaN</td>\n",
       "      <td>nan</td>\n",
       "      <td>NaN</td>\n",
       "      <td>nan</td>\n",
       "      <td>NaN</td>\n",
       "      <td>nan</td>\n",
       "      <td>NaN</td>\n",
       "      <td>NaN</td>\n",
       "      <td>NaN</td>\n",
       "      <td>M</td>\n",
       "      <td>NaN</td>\n",
       "      <td>NaN</td>\n",
       "      <td>M</td>\n",
       "      <td>M</td>\n",
       "    </tr>\n",
       "    <tr>\n",
       "      <th>302</th>\n",
       "      <td>30-10-17</td>\n",
       "      <td>2017</td>\n",
       "      <td>10</td>\n",
       "      <td>30</td>\n",
       "      <td>NaN</td>\n",
       "      <td>nan</td>\n",
       "      <td>5.9</td>\n",
       "      <td>White</td>\n",
       "      <td>NaN</td>\n",
       "      <td>nan</td>\n",
       "      <td>NaN</td>\n",
       "      <td>NaN</td>\n",
       "      <td>NaN</td>\n",
       "      <td>M</td>\n",
       "      <td>NaN</td>\n",
       "      <td>NaN</td>\n",
       "      <td>M</td>\n",
       "      <td>M</td>\n",
       "    </tr>\n",
       "    <tr>\n",
       "      <th>310</th>\n",
       "      <td>07-11-17</td>\n",
       "      <td>2017</td>\n",
       "      <td>11</td>\n",
       "      <td>7</td>\n",
       "      <td>NaN</td>\n",
       "      <td>nan</td>\n",
       "      <td>4.0</td>\n",
       "      <td>White</td>\n",
       "      <td>NaN</td>\n",
       "      <td>nan</td>\n",
       "      <td>NaN</td>\n",
       "      <td>NaN</td>\n",
       "      <td>NaN</td>\n",
       "      <td>M</td>\n",
       "      <td>NaN</td>\n",
       "      <td>NaN</td>\n",
       "      <td>M</td>\n",
       "      <td>M</td>\n",
       "    </tr>\n",
       "    <tr>\n",
       "      <th>330</th>\n",
       "      <td>27-11-17</td>\n",
       "      <td>2017</td>\n",
       "      <td>11</td>\n",
       "      <td>27</td>\n",
       "      <td>NaN</td>\n",
       "      <td>nan</td>\n",
       "      <td>1.3</td>\n",
       "      <td>White</td>\n",
       "      <td>NaN</td>\n",
       "      <td>nan</td>\n",
       "      <td>NaN</td>\n",
       "      <td>NaN</td>\n",
       "      <td>NaN</td>\n",
       "      <td>M</td>\n",
       "      <td>NaN</td>\n",
       "      <td>NaN</td>\n",
       "      <td>M</td>\n",
       "      <td>M</td>\n",
       "    </tr>\n",
       "  </tbody>\n",
       "</table>\n",
       "</div>"
      ],
      "text/plain": [
       "    Date/Time  Year  Month  Day  Max Temp (°C) Max Temp Flag  Min Temp (°C)  \\\n",
       "64   06-03-17  2017      3    6            4.9         White            NaN   \n",
       "100  11-04-17  2017      4   11            NaN           nan           11.3   \n",
       "137  18-05-17  2017      5   18            NaN           nan           18.4   \n",
       "141  22-05-17  2017      5   22            NaN           nan            NaN   \n",
       "142  23-05-17  2017      5   23           21.8         White            NaN   \n",
       "148  29-05-17  2017      5   29            NaN           nan           14.7   \n",
       "157  07-06-17  2017      6    7            NaN           nan            NaN   \n",
       "302  30-10-17  2017     10   30            NaN           nan            5.9   \n",
       "310  07-11-17  2017     11    7            NaN           nan            4.0   \n",
       "330  27-11-17  2017     11   27            NaN           nan            1.3   \n",
       "\n",
       "    Min Temp Flag  Mean Temp (°C) Mean Temp Flag  Heat Deg Days (°C)  \\\n",
       "64            nan             NaN            nan                 NaN   \n",
       "100         White             NaN            nan                 NaN   \n",
       "137         White             NaN            nan                 NaN   \n",
       "141           nan             NaN            nan                 NaN   \n",
       "142           nan             NaN            nan                 NaN   \n",
       "148         White             NaN            nan                 NaN   \n",
       "157           nan             NaN            nan                 NaN   \n",
       "302         White             NaN            nan                 NaN   \n",
       "310         White             NaN            nan                 NaN   \n",
       "330         White             NaN            nan                 NaN   \n",
       "\n",
       "     Cool Deg Days (°C)  Total Precip (mm) Total Precip Flag  \\\n",
       "64                  NaN                NaN                 M   \n",
       "100                 NaN                NaN                 M   \n",
       "137                 NaN                NaN                 M   \n",
       "141                 NaN                NaN                 M   \n",
       "142                 NaN                NaN                 M   \n",
       "148                 NaN                NaN                 M   \n",
       "157                 NaN                NaN                 M   \n",
       "302                 NaN                NaN                 M   \n",
       "310                 NaN                NaN                 M   \n",
       "330                 NaN                NaN                 M   \n",
       "\n",
       "     Snow on Grnd (cm) Snow on Grnd Flag Dir of Max Gust Flag  \\\n",
       "64                 NaN               NaN                    M   \n",
       "100                NaN               NaN                    M   \n",
       "137                NaN               NaN                    M   \n",
       "141                NaN               NaN                    M   \n",
       "142                NaN               NaN                    M   \n",
       "148                NaN               NaN                    M   \n",
       "157                NaN               NaN                    M   \n",
       "302                NaN               NaN                    M   \n",
       "310                NaN               NaN                    M   \n",
       "330                NaN               NaN                    M   \n",
       "\n",
       "    Spd of Max Gust Flag  \n",
       "64                     M  \n",
       "100                    M  \n",
       "137                    M  \n",
       "141                    M  \n",
       "142                    M  \n",
       "148                    M  \n",
       "157                    M  \n",
       "302                    M  \n",
       "310                    M  \n",
       "330                    M  "
      ]
     },
     "execution_count": 26,
     "metadata": {},
     "output_type": "execute_result"
    }
   ],
   "source": [
    "weather[weather['Heat Deg Days (°C)'].isna()]"
   ]
  },
  {
   "cell_type": "markdown",
   "metadata": {},
   "source": [
    "Above output shows that Heat Degree Days has null values where almost all columns are unknown, except few. \n",
    "The available values in these rows only for Max or Min Temp, even not together.\n",
    "So, finding values for all coulmns based on these few values is not certain.\n",
    "So drop these rows."
   ]
  },
  {
   "cell_type": "code",
   "execution_count": 27,
   "metadata": {},
   "outputs": [],
   "source": [
    "weather.drop([64,100,137,142,148,302,310,330], inplace= True)"
   ]
  },
  {
   "cell_type": "code",
   "execution_count": 28,
   "metadata": {},
   "outputs": [
    {
     "data": {
      "text/plain": [
       "<matplotlib.axes._subplots.AxesSubplot at 0x8985534e0>"
      ]
     },
     "execution_count": 28,
     "metadata": {},
     "output_type": "execute_result"
    },
    {
     "data": {
      "image/png": "[encoded data removed]",
      "text/plain": [
       "<Figure size 864x504 with 1 Axes>"
      ]
     },
     "metadata": {
      "needs_background": "light"
     },
     "output_type": "display_data"
    }
   ],
   "source": [
    "plt.figure(figsize=(12, 7))\n",
    "sns.heatmap(weather.isnull(),yticklabels=False,cbar=False,cmap='viridis')"
   ]
  },
  {
   "cell_type": "markdown",
   "metadata": {},
   "source": [
    "### DEALING WITH PRECIPIATION FLAG\n",
    "The millimetre (mm) is the unit of measurement of liquid precipitation and the vertical depth of water or water equivalent is express to the nearest 0.2 mm. Less than 0.2 mm is called a \"Trace\".\n",
    "https://climate.weather.gc.ca/glossary_e.html accessed on: 26 Sep 2019"
   ]
  },
  {
   "cell_type": "code",
   "execution_count": 29,
   "metadata": {},
   "outputs": [],
   "source": [
    "conditions  = [ weather['Total Precip (mm)']<0.2, weather['Total Precip (mm)']>=0.2]  \n",
    "choices     = [ '0', '1'] # 0 is for trace, 1 is for above trace\n",
    "\n",
    "weather['Total Precip Flag'] = np.select(conditions, choices, default=np.nan)"
   ]
  },
  {
   "cell_type": "code",
   "execution_count": 30,
   "metadata": {},
   "outputs": [
    {
     "data": {
      "text/plain": [
       "0      210\n",
       "1      140\n",
       "nan      7\n",
       "Name: Total Precip Flag, dtype: int64"
      ]
     },
     "execution_count": 30,
     "metadata": {},
     "output_type": "execute_result"
    }
   ],
   "source": [
    "weather['Total Precip Flag'].value_counts()"
   ]
  },
  {
   "cell_type": "code",
   "execution_count": 31,
   "metadata": {},
   "outputs": [
    {
     "data": {
      "text/plain": [
       "<matplotlib.axes._subplots.AxesSubplot at 0x89858cb38>"
      ]
     },
     "execution_count": 31,
     "metadata": {},
     "output_type": "execute_result"
    },
    {
     "data": {
      "image/png": "[encoded data removed]",
      "text/plain": [
       "<Figure size 864x504 with 1 Axes>"
      ]
     },
     "metadata": {
      "needs_background": "light"
     },
     "output_type": "display_data"
    }
   ],
   "source": [
    "plt.figure(figsize=(12, 7))\n",
    "sns.heatmap(weather.isnull(),yticklabels=False,cbar=False,cmap='viridis')"
   ]
  },
  {
   "cell_type": "markdown",
   "metadata": {},
   "source": [
    "Well, most of the data is clean. However, still there are some missing values which could be cleaned in similar manner.\n",
    "This could be cleaned according to business requirement."
   ]
  },
  {
   "cell_type": "code",
   "execution_count": 32,
   "metadata": {},
   "outputs": [],
   "source": [
    "to_drop = ['Snow on Grnd (cm)', 'Snow on Grnd Flag']\n",
    "weather.drop(to_drop, inplace=True, axis=1)"
   ]
  },
  {
   "cell_type": "code",
   "execution_count": 33,
   "metadata": {},
   "outputs": [
    {
     "data": {
      "text/plain": [
       "<matplotlib.axes._subplots.AxesSubplot at 0x898c2ef98>"
      ]
     },
     "execution_count": 33,
     "metadata": {},
     "output_type": "execute_result"
    },
    {
     "data": {
      "image/png": "[encoded data removed]",
      "text/plain": [
       "<Figure size 864x504 with 1 Axes>"
      ]
     },
     "metadata": {
      "needs_background": "light"
     },
     "output_type": "display_data"
    }
   ],
   "source": [
    "plt.figure(figsize=(12, 7))\n",
    "sns.heatmap(weather.isnull(),yticklabels=False,cbar=False,cmap='viridis')"
   ]
  },
  {
   "cell_type": "code",
   "execution_count": 34,
   "metadata": {},
   "outputs": [
    {
     "data": {
      "text/plain": [
       "[141, 157, 222, 223, 224, 225, 226]"
      ]
     },
     "execution_count": 34,
     "metadata": {},
     "output_type": "execute_result"
    }
   ],
   "source": [
    "weather[weather['Total Precip (mm)'].isnull()].index.tolist()"
   ]
  },
  {
   "cell_type": "code",
   "execution_count": 35,
   "metadata": {},
   "outputs": [],
   "source": [
    "weather.drop([141,157,222,223,224,225,226], inplace= True)"
   ]
  },
  {
   "cell_type": "code",
   "execution_count": 36,
   "metadata": {},
   "outputs": [],
   "source": [
    "to_drop = ['Dir of Max Gust Flag', 'Spd of Max Gust Flag']\n",
    "weather.drop(to_drop, inplace=True, axis=1)"
   ]
  },
  {
   "cell_type": "code",
   "execution_count": 37,
   "metadata": {},
   "outputs": [],
   "source": [
    "export_csv = weather.to_csv (r'F:\\export_weather.csv', index = None, header=True)"
   ]
  },
  {
   "cell_type": "code",
   "execution_count": 38,
   "metadata": {},
   "outputs": [
    {
     "data": {
      "text/plain": [
       "<matplotlib.axes._subplots.AxesSubplot at 0x898ca6160>"
      ]
     },
     "execution_count": 38,
     "metadata": {},
     "output_type": "execute_result"
    },
    {
     "data": {
      "image/png": "[encoded data removed]",
      "text/plain": [
       "<Figure size 864x504 with 1 Axes>"
      ]
     },
     "metadata": {
      "needs_background": "light"
     },
     "output_type": "display_data"
    }
   ],
   "source": [
    "plt.figure(figsize=(12, 7))\n",
    "sns.heatmap(weather.isnull(),yticklabels=False,cbar=False,cmap='viridis')"
   ]
  },
  {
   "cell_type": "markdown",
   "metadata": {},
   "source": [
    "### DATA CLEANSING, ANALYSIS AND PREPARATION IS COMPLETED!"
   ]
  },
  {
   "cell_type": "code",
   "execution_count": null,
   "metadata": {},
   "outputs": [],
   "source": []
  }
 ],
 "metadata": {
  "kernelspec": {
   "display_name": "Python 3",
   "language": "python",
   "name": "python3"
  },
  "language_info": {
   "codemirror_mode": {
    "name": "ipython",
    "version": 3
   },
   "file_extension": ".py",
   "mimetype": "text/x-python",
   "name": "python",
   "nbconvert_exporter": "python",
   "pygments_lexer": "ipython3",
   "version": "3.7.3"
  }
 },
 "nbformat": 4,
 "nbformat_minor": 2
}
